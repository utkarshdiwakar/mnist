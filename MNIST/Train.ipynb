{
 "cells": [
  {
   "cell_type": "code",
   "execution_count": 1,
   "metadata": {},
   "outputs": [],
   "source": [
    "import gzip\n",
    "import pandas as pd\n",
    "import numpy as np\n",
    "import matplotlib.pyplot as plt\n",
    "from os.path  import join\n",
    "import tensorflow as tf\n",
    "from PIL import Image\n",
    "from sklearn.model_selection import train_test_split\n",
    "from tensorflow.keras.models import Sequential\n",
    "from tensorflow.keras.layers import Dense\n",
    "from tensorflow.keras import layers\n",
    "from tensorflow.keras import callbacks\n",
    "from tensorflow.keras import regularizers\n",
    "import logging\n",
    "logging.getLogger(\"tensorflow\").setLevel(logging.ERROR)\n",
    "tf.autograph.set_verbosity(0)"
   ]
  },
  {
   "cell_type": "code",
   "execution_count": 2,
   "metadata": {},
   "outputs": [],
   "source": [
    "training_images_path = \"/Users/utkarsh/Downloads/MNIST/train-images-idx3-ubyte.gz\"\n",
    "training_labels_path = \"/Users/utkarsh/Downloads/MNIST/train-labels-idx1-ubyte.gz\"\n",
    " \n",
    "train_images_byte = gzip.open(training_images_path,'r')\n",
    "image_size = 28\n",
    "sample_size = 60000 \n",
    "train_images_byte.read(16)\n",
    "buf = train_images_byte.read(image_size * image_size * sample_size)\n",
    "data = np.frombuffer(buf, dtype=np.uint8).astype(np.float32)\n",
    "\n",
    "\"\"\"print(np.array2string(data, threshold=np.inf, edgeitems=np.inf))\n",
    "print(data.reshape(28,28)) \n",
    "reshaped_arr = data.reshape(28, 28)\n",
    "for row in reshaped_arr:\n",
    "    print(' '.join([str(elem) for elem in row]))\"\"\"\n",
    "\n",
    "images = data.reshape(sample_size, image_size, image_size, 1)\n",
    "# print(np.array2string(images, threshold=np.inf, edgeitems=np.inf))\n",
    "train_labels_byte = gzip.open(training_labels_path,'r')\n",
    "train_labels_byte.read(8)\n",
    "buf = train_labels_byte.read(sample_size)\n",
    "labels = np.frombuffer(buf, dtype=np.uint8)"
   ]
  },
  {
   "cell_type": "code",
   "execution_count": 3,
   "metadata": {},
   "outputs": [],
   "source": [
    "def show_images(images, labels):\n",
    "     \n",
    "    cols = 5\n",
    "    rows = int(len(images)/cols) + 1\n",
    "     \n",
    "    plt.figure(figsize=(10,7))\n",
    "    index = 1   \n",
    "     \n",
    "    for x in zip(images, labels):        \n",
    "        image = x[0]        \n",
    "        label = x[1]\n",
    "        plt.subplot(rows, cols, index)        \n",
    "        plt.imshow(image, cmap=plt.cm.gray, )\n",
    "        plt.axis('off')\n",
    "        # plt.title(label);        \n",
    "        index += 1\n"
   ]
  },
  {
   "cell_type": "code",
   "execution_count": 4,
   "metadata": {},
   "outputs": [
    {
     "data": {
      "text/plain": [
       "'\\n\\nProcess: (1) Get all the Datasets, their X and Y as numpy array\\n\\n'"
      ]
     },
     "execution_count": 4,
     "metadata": {},
     "output_type": "execute_result"
    }
   ],
   "source": [
    "\"\"\"\n",
    "\n",
    "Process: (1) Get all the Datasets, their X and Y as numpy array\n",
    "\n",
    "\"\"\""
   ]
  },
  {
   "cell_type": "code",
   "execution_count": 5,
   "metadata": {},
   "outputs": [],
   "source": [
    "# print(np.array2string(data, threshold=np.inf, edgeitems=np.inf))\n",
    "img_data = np.reshape(data, (sample_size, image_size**2))\n",
    "lbl_data = labels"
   ]
  },
  {
   "cell_type": "code",
   "execution_count": 6,
   "metadata": {},
   "outputs": [],
   "source": [
    "X = img_data\n",
    "y = lbl_data\n"
   ]
  },
  {
   "cell_type": "code",
   "execution_count": 7,
   "metadata": {},
   "outputs": [],
   "source": [
    "X_train, X_valid, y_train, y_valid = train_test_split(X, y, test_size=0.2)"
   ]
  },
  {
   "cell_type": "code",
   "execution_count": 8,
   "metadata": {},
   "outputs": [],
   "source": [
    "checkpoint_path = \"training_1/cp.ckpt\"\n",
    "early_stopping = callbacks.EarlyStopping(\n",
    "    min_delta=0.001,\n",
    "    patience=20,\n",
    "    restore_best_weights=True,\n",
    ")\n",
    "model_ckpt = callbacks.ModelCheckpoint(\n",
    "    filepath=checkpoint_path,\n",
    "    save_weights_only=True,\n",
    "    verbose=True)"
   ]
  },
  {
   "cell_type": "code",
   "execution_count": 9,
   "metadata": {},
   "outputs": [],
   "source": [
    "model = Sequential(\n",
    "    [\n",
    "        # layers.Dropout(0.3),\n",
    "        Dense(100, activation='relu', input_shape=[784]),\n",
    "        # layers.Dropout(0.3),\n",
    "        Dense(100, activation='relu'),\n",
    "        # layers.Dropout(0.3),\n",
    "        Dense(100, activation='relu'),\n",
    "        #layers.Dropout(0.3),\n",
    "        Dense(10, activation='linear')\n",
    "    ]\n",
    ")"
   ]
  },
  {
   "cell_type": "code",
   "execution_count": 10,
   "metadata": {},
   "outputs": [],
   "source": [
    "model.compile(\n",
    "    loss = tf.keras.losses.SparseCategoricalCrossentropy(from_logits=True),\n",
    "    optimizer = tf.keras.optimizers.legacy.Adam(0.0005),\n",
    ")"
   ]
  },
  {
   "cell_type": "code",
   "execution_count": 11,
   "metadata": {},
   "outputs": [
    {
     "name": "stdout",
     "output_type": "stream",
     "text": [
      "Epoch 1/500\n",
      "1472/1500 [============================>.] - ETA: 0s - loss: 1.6026\n",
      "Epoch 1: saving model to training_1/cp.ckpt\n",
      "1500/1500 [==============================] - 2s 1ms/step - loss: 1.5825 - val_loss: 0.4741\n",
      "Epoch 2/500\n",
      "1474/1500 [============================>.] - ETA: 0s - loss: 0.3121\n",
      "Epoch 2: saving model to training_1/cp.ckpt\n",
      "1500/1500 [==============================] - 2s 1ms/step - loss: 0.3126 - val_loss: 0.2707\n",
      "Epoch 3/500\n",
      "1476/1500 [============================>.] - ETA: 0s - loss: 0.2146\n",
      "Epoch 3: saving model to training_1/cp.ckpt\n",
      "1500/1500 [==============================] - 2s 1ms/step - loss: 0.2157 - val_loss: 0.2304\n",
      "Epoch 4/500\n",
      "1468/1500 [============================>.] - ETA: 0s - loss: 0.1679\n",
      "Epoch 4: saving model to training_1/cp.ckpt\n",
      "1500/1500 [==============================] - 2s 1ms/step - loss: 0.1670 - val_loss: 0.2243\n",
      "Epoch 5/500\n",
      "1452/1500 [============================>.] - ETA: 0s - loss: 0.1463\n",
      "Epoch 5: saving model to training_1/cp.ckpt\n",
      "1500/1500 [==============================] - 2s 1ms/step - loss: 0.1467 - val_loss: 0.2229\n",
      "Epoch 6/500\n",
      "1478/1500 [============================>.] - ETA: 0s - loss: 0.1178\n",
      "Epoch 6: saving model to training_1/cp.ckpt\n",
      "1500/1500 [==============================] - 2s 1ms/step - loss: 0.1184 - val_loss: 0.1849\n",
      "Epoch 7/500\n",
      "1492/1500 [============================>.] - ETA: 0s - loss: 0.0989\n",
      "Epoch 7: saving model to training_1/cp.ckpt\n",
      "1500/1500 [==============================] - 2s 1ms/step - loss: 0.0987 - val_loss: 0.1657\n",
      "Epoch 8/500\n",
      "1457/1500 [============================>.] - ETA: 0s - loss: 0.0914\n",
      "Epoch 8: saving model to training_1/cp.ckpt\n",
      "1500/1500 [==============================] - 2s 1ms/step - loss: 0.0910 - val_loss: 0.2149\n",
      "Epoch 9/500\n",
      "1470/1500 [============================>.] - ETA: 0s - loss: 0.0809\n",
      "Epoch 9: saving model to training_1/cp.ckpt\n",
      "1500/1500 [==============================] - 2s 1ms/step - loss: 0.0806 - val_loss: 0.1774\n",
      "Epoch 10/500\n",
      "1496/1500 [============================>.] - ETA: 0s - loss: 0.0684\n",
      "Epoch 10: saving model to training_1/cp.ckpt\n",
      "1500/1500 [==============================] - 2s 1ms/step - loss: 0.0684 - val_loss: 0.1998\n",
      "Epoch 11/500\n",
      "1460/1500 [============================>.] - ETA: 0s - loss: 0.0641\n",
      "Epoch 11: saving model to training_1/cp.ckpt\n",
      "1500/1500 [==============================] - 2s 1ms/step - loss: 0.0640 - val_loss: 0.1614\n",
      "Epoch 12/500\n",
      "1498/1500 [============================>.] - ETA: 0s - loss: 0.0553\n",
      "Epoch 12: saving model to training_1/cp.ckpt\n",
      "1500/1500 [==============================] - 2s 1ms/step - loss: 0.0553 - val_loss: 0.1753\n",
      "Epoch 13/500\n",
      "1454/1500 [============================>.] - ETA: 0s - loss: 0.0533\n",
      "Epoch 13: saving model to training_1/cp.ckpt\n",
      "1500/1500 [==============================] - 2s 1ms/step - loss: 0.0530 - val_loss: 0.1782\n",
      "Epoch 14/500\n",
      "1484/1500 [============================>.] - ETA: 0s - loss: 0.0472\n",
      "Epoch 14: saving model to training_1/cp.ckpt\n",
      "1500/1500 [==============================] - 2s 1ms/step - loss: 0.0473 - val_loss: 0.1829\n",
      "Epoch 15/500\n",
      "1487/1500 [============================>.] - ETA: 0s - loss: 0.0489\n",
      "Epoch 15: saving model to training_1/cp.ckpt\n",
      "1500/1500 [==============================] - 2s 1ms/step - loss: 0.0490 - val_loss: 0.1815\n",
      "Epoch 16/500\n",
      "1449/1500 [===========================>..] - ETA: 0s - loss: 0.0429\n",
      "Epoch 16: saving model to training_1/cp.ckpt\n",
      "1500/1500 [==============================] - 2s 1ms/step - loss: 0.0430 - val_loss: 0.1912\n",
      "Epoch 17/500\n",
      "1498/1500 [============================>.] - ETA: 0s - loss: 0.0409\n",
      "Epoch 17: saving model to training_1/cp.ckpt\n",
      "1500/1500 [==============================] - 2s 1ms/step - loss: 0.0410 - val_loss: 0.2042\n",
      "Epoch 18/500\n",
      "1473/1500 [============================>.] - ETA: 0s - loss: 0.0389\n",
      "Epoch 18: saving model to training_1/cp.ckpt\n",
      "1500/1500 [==============================] - 2s 1ms/step - loss: 0.0390 - val_loss: 0.1870\n",
      "Epoch 19/500\n",
      "1497/1500 [============================>.] - ETA: 0s - loss: 0.0344\n",
      "Epoch 19: saving model to training_1/cp.ckpt\n",
      "1500/1500 [==============================] - 2s 1ms/step - loss: 0.0344 - val_loss: 0.1774\n",
      "Epoch 20/500\n",
      "1455/1500 [============================>.] - ETA: 0s - loss: 0.0306\n",
      "Epoch 20: saving model to training_1/cp.ckpt\n",
      "1500/1500 [==============================] - 2s 1ms/step - loss: 0.0311 - val_loss: 0.1942\n",
      "Epoch 21/500\n",
      "1466/1500 [============================>.] - ETA: 0s - loss: 0.0374\n",
      "Epoch 21: saving model to training_1/cp.ckpt\n",
      "1500/1500 [==============================] - 2s 1ms/step - loss: 0.0375 - val_loss: 0.1869\n",
      "Epoch 22/500\n",
      "1463/1500 [============================>.] - ETA: 0s - loss: 0.0300\n",
      "Epoch 22: saving model to training_1/cp.ckpt\n",
      "1500/1500 [==============================] - 2s 1ms/step - loss: 0.0303 - val_loss: 0.2141\n",
      "Epoch 23/500\n",
      "1452/1500 [============================>.] - ETA: 0s - loss: 0.0296\n",
      "Epoch 23: saving model to training_1/cp.ckpt\n",
      "1500/1500 [==============================] - 2s 1ms/step - loss: 0.0295 - val_loss: 0.2069\n",
      "Epoch 24/500\n",
      "1486/1500 [============================>.] - ETA: 0s - loss: 0.0320\n",
      "Epoch 24: saving model to training_1/cp.ckpt\n",
      "1500/1500 [==============================] - 2s 1ms/step - loss: 0.0319 - val_loss: 0.2155\n",
      "Epoch 25/500\n",
      "1478/1500 [============================>.] - ETA: 0s - loss: 0.0284\n",
      "Epoch 25: saving model to training_1/cp.ckpt\n",
      "1500/1500 [==============================] - 2s 1ms/step - loss: 0.0282 - val_loss: 0.1878\n",
      "Epoch 26/500\n",
      "1449/1500 [===========================>..] - ETA: 0s - loss: 0.0279\n",
      "Epoch 26: saving model to training_1/cp.ckpt\n",
      "1500/1500 [==============================] - 2s 1ms/step - loss: 0.0280 - val_loss: 0.2556\n",
      "Epoch 27/500\n",
      "1463/1500 [============================>.] - ETA: 0s - loss: 0.0262\n",
      "Epoch 27: saving model to training_1/cp.ckpt\n",
      "1500/1500 [==============================] - 2s 1ms/step - loss: 0.0262 - val_loss: 0.2238\n",
      "Epoch 28/500\n",
      "1500/1500 [==============================] - ETA: 0s - loss: 0.0222\n",
      "Epoch 28: saving model to training_1/cp.ckpt\n",
      "1500/1500 [==============================] - 2s 1ms/step - loss: 0.0222 - val_loss: 0.2079\n",
      "Epoch 29/500\n",
      "1459/1500 [============================>.] - ETA: 0s - loss: 0.0257\n",
      "Epoch 29: saving model to training_1/cp.ckpt\n",
      "1500/1500 [==============================] - 2s 1ms/step - loss: 0.0266 - val_loss: 0.2486\n",
      "Epoch 30/500\n",
      "1458/1500 [============================>.] - ETA: 0s - loss: 0.0245\n",
      "Epoch 30: saving model to training_1/cp.ckpt\n",
      "1500/1500 [==============================] - 2s 1ms/step - loss: 0.0245 - val_loss: 0.2391\n",
      "Epoch 31/500\n",
      "1496/1500 [============================>.] - ETA: 0s - loss: 0.0276\n",
      "Epoch 31: saving model to training_1/cp.ckpt\n",
      "1500/1500 [==============================] - 2s 1ms/step - loss: 0.0276 - val_loss: 0.2263\n"
     ]
    }
   ],
   "source": [
    "history = model.fit(\n",
    "    X_train, y_train,\n",
    "    validation_data=(X_valid, y_valid),\n",
    "    epochs=500,\n",
    "    callbacks=[early_stopping, model_ckpt],\n",
    ")"
   ]
  },
  {
   "cell_type": "code",
   "execution_count": 12,
   "metadata": {},
   "outputs": [
    {
     "name": "stdout",
     "output_type": "stream",
     "text": [
      "Minimum Validation Loss: 0.1614\n"
     ]
    },
    {
     "data": {
      "image/png": "[encoded data removed]",
      "text/plain": [
       "<Figure size 640x480 with 1 Axes>"
      ]
     },
     "metadata": {},
     "output_type": "display_data"
    }
   ],
   "source": [
    "history_df = pd.DataFrame(history.history)\n",
    "history_df.loc[15:, ['loss', 'val_loss']].plot()\n",
    "print(\"Minimum Validation Loss: {:0.4f}\".format(history_df['val_loss'].min()));"
   ]
  },
  {
   "cell_type": "markdown",
   "metadata": {},
   "source": [
    "Testing the data now"
   ]
  },
  {
   "cell_type": "code",
   "execution_count": 13,
   "metadata": {},
   "outputs": [],
   "source": [
    "testing_images_path = \"/Users/utkarsh/Downloads/MNIST/t10k-images-idx3-ubyte.gz\"\n",
    "testing_labels_path = \"/Users/utkarsh/Downloads/MNIST/t10k-labels-idx1-ubyte.gz\"\n",
    "test_images_byte = gzip.open(training_images_path,'r')\n",
    "image_size = 28\n",
    "sample_size = 10000 \n",
    "test_images_byte.read(16)\n",
    "buf = test_images_byte.read(image_size * image_size * sample_size)\n",
    "data = np.frombuffer(buf, dtype=np.uint8).astype(np.float32)\n",
    "images = data.reshape(sample_size, image_size, image_size, 1)\n",
    "\n",
    "test_labels_byte = gzip.open(training_labels_path,'r')\n",
    "test_labels_byte.read(8)\n",
    "buf = test_labels_byte.read(sample_size)\n",
    "labels = np.frombuffer(buf, dtype=np.uint8)\n",
    "img_data = np.reshape(data, (sample_size, image_size**2))\n",
    "lbl_data = labels"
   ]
  },
  {
   "cell_type": "code",
   "execution_count": 14,
   "metadata": {},
   "outputs": [],
   "source": [
    "X_test = img_data\n",
    "y_test = labels"
   ]
  },
  {
   "cell_type": "code",
   "execution_count": 15,
   "metadata": {},
   "outputs": [
    {
     "data": {
      "text/plain": [
       "array([  0.,   0.,   0.,   0.,   0.,   0.,   0.,   0.,   0.,   0.,   0.,\n",
       "         0.,   0.,   0.,   0.,   0.,   0.,   0.,   0.,   0.,   0.,   0.,\n",
       "         0.,   0.,   0.,   0.,   0.,   0.,   0.,   0.,   0.,   0.,   0.,\n",
       "         0.,   0.,   0.,   0.,   0.,   0.,   0.,   0.,   0.,   0.,   0.,\n",
       "         0.,   0.,   0.,   0.,   0.,   0.,   0.,   0.,   0.,   0.,   0.,\n",
       "         0.,   0.,   0.,   0.,   0.,   0.,   0.,   0.,   0.,   0.,   0.,\n",
       "         0.,   0.,   0.,   0.,   0.,   0.,   0.,   0.,   0.,   0.,   0.,\n",
       "         0.,   0.,   0.,   0.,   0.,   0.,   0.,   0.,   0.,   0.,   0.,\n",
       "         0.,   0.,   0.,   0.,   0.,   0.,   0.,   0.,   0.,   0.,   0.,\n",
       "         0.,   0.,   0.,   0.,   0.,   0.,   0.,   0.,   0.,   0.,   0.,\n",
       "         0.,   0.,   0.,   0.,   0.,   0.,   0.,   0.,   0.,   0.,   0.,\n",
       "         0.,   0.,   0.,   0.,   0.,   0.,   0.,   0.,   0.,   0.,   0.,\n",
       "         0.,   0.,   0.,   0.,   0.,   0.,   0.,   0.,   0.,   0.,   0.,\n",
       "         0.,   0.,   0.,   0.,   0.,   0.,   0.,   0.,   0.,   3.,  18.,\n",
       "        18.,  18., 126., 136., 175.,  26., 166., 255., 247., 127.,   0.,\n",
       "         0.,   0.,   0.,   0.,   0.,   0.,   0.,   0.,   0.,   0.,   0.,\n",
       "        30.,  36.,  94., 154., 170., 253., 253., 253., 253., 253., 225.,\n",
       "       172., 253., 242., 195.,  64.,   0.,   0.,   0.,   0.,   0.,   0.,\n",
       "         0.,   0.,   0.,   0.,   0.,  49., 238., 253., 253., 253., 253.,\n",
       "       253., 253., 253., 253., 251.,  93.,  82.,  82.,  56.,  39.,   0.,\n",
       "         0.,   0.,   0.,   0.,   0.,   0.,   0.,   0.,   0.,   0.,   0.,\n",
       "        18., 219., 253., 253., 253., 253., 253., 198., 182., 247., 241.,\n",
       "         0.,   0.,   0.,   0.,   0.,   0.,   0.,   0.,   0.,   0.,   0.,\n",
       "         0.,   0.,   0.,   0.,   0.,   0.,   0.,  80., 156., 107., 253.,\n",
       "       253., 205.,  11.,   0.,  43., 154.,   0.,   0.,   0.,   0.,   0.,\n",
       "         0.,   0.,   0.,   0.,   0.,   0.,   0.,   0.,   0.,   0.,   0.,\n",
       "         0.,   0.,   0.,  14.,   1., 154., 253.,  90.,   0.,   0.,   0.,\n",
       "         0.,   0.,   0.,   0.,   0.,   0.,   0.,   0.,   0.,   0.,   0.,\n",
       "         0.,   0.,   0.,   0.,   0.,   0.,   0.,   0.,   0.,   0.,   0.,\n",
       "       139., 253., 190.,   2.,   0.,   0.,   0.,   0.,   0.,   0.,   0.,\n",
       "         0.,   0.,   0.,   0.,   0.,   0.,   0.,   0.,   0.,   0.,   0.,\n",
       "         0.,   0.,   0.,   0.,   0.,   0.,  11., 190., 253.,  70.,   0.,\n",
       "         0.,   0.,   0.,   0.,   0.,   0.,   0.,   0.,   0.,   0.,   0.,\n",
       "         0.,   0.,   0.,   0.,   0.,   0.,   0.,   0.,   0.,   0.,   0.,\n",
       "         0.,   0.,  35., 241., 225., 160., 108.,   1.,   0.,   0.,   0.,\n",
       "         0.,   0.,   0.,   0.,   0.,   0.,   0.,   0.,   0.,   0.,   0.,\n",
       "         0.,   0.,   0.,   0.,   0.,   0.,   0.,   0.,   0.,  81., 240.,\n",
       "       253., 253., 119.,  25.,   0.,   0.,   0.,   0.,   0.,   0.,   0.,\n",
       "         0.,   0.,   0.,   0.,   0.,   0.,   0.,   0.,   0.,   0.,   0.,\n",
       "         0.,   0.,   0.,   0.,   0.,  45., 186., 253., 253., 150.,  27.,\n",
       "         0.,   0.,   0.,   0.,   0.,   0.,   0.,   0.,   0.,   0.,   0.,\n",
       "         0.,   0.,   0.,   0.,   0.,   0.,   0.,   0.,   0.,   0.,   0.,\n",
       "         0.,  16.,  93., 252., 253., 187.,   0.,   0.,   0.,   0.,   0.,\n",
       "         0.,   0.,   0.,   0.,   0.,   0.,   0.,   0.,   0.,   0.,   0.,\n",
       "         0.,   0.,   0.,   0.,   0.,   0.,   0.,   0.,   0., 249., 253.,\n",
       "       249.,  64.,   0.,   0.,   0.,   0.,   0.,   0.,   0.,   0.,   0.,\n",
       "         0.,   0.,   0.,   0.,   0.,   0.,   0.,   0.,   0.,   0.,   0.,\n",
       "         0.,  46., 130., 183., 253., 253., 207.,   2.,   0.,   0.,   0.,\n",
       "         0.,   0.,   0.,   0.,   0.,   0.,   0.,   0.,   0.,   0.,   0.,\n",
       "         0.,   0.,   0.,   0.,   0.,  39., 148., 229., 253., 253., 253.,\n",
       "       250., 182.,   0.,   0.,   0.,   0.,   0.,   0.,   0.,   0.,   0.,\n",
       "         0.,   0.,   0.,   0.,   0.,   0.,   0.,   0.,   0.,  24., 114.,\n",
       "       221., 253., 253., 253., 253., 201.,  78.,   0.,   0.,   0.,   0.,\n",
       "         0.,   0.,   0.,   0.,   0.,   0.,   0.,   0.,   0.,   0.,   0.,\n",
       "         0.,   0.,  23.,  66., 213., 253., 253., 253., 253., 198.,  81.,\n",
       "         2.,   0.,   0.,   0.,   0.,   0.,   0.,   0.,   0.,   0.,   0.,\n",
       "         0.,   0.,   0.,   0.,   0.,   0.,  18., 171., 219., 253., 253.,\n",
       "       253., 253., 195.,  80.,   9.,   0.,   0.,   0.,   0.,   0.,   0.,\n",
       "         0.,   0.,   0.,   0.,   0.,   0.,   0.,   0.,   0.,   0.,  55.,\n",
       "       172., 226., 253., 253., 253., 253., 244., 133.,  11.,   0.,   0.,\n",
       "         0.,   0.,   0.,   0.,   0.,   0.,   0.,   0.,   0.,   0.,   0.,\n",
       "         0.,   0.,   0.,   0.,   0., 136., 253., 253., 253., 212., 135.,\n",
       "       132.,  16.,   0.,   0.,   0.,   0.,   0.,   0.,   0.,   0.,   0.,\n",
       "         0.,   0.,   0.,   0.,   0.,   0.,   0.,   0.,   0.,   0.,   0.,\n",
       "         0.,   0.,   0.,   0.,   0.,   0.,   0.,   0.,   0.,   0.,   0.,\n",
       "         0.,   0.,   0.,   0.,   0.,   0.,   0.,   0.,   0.,   0.,   0.,\n",
       "         0.,   0.,   0.,   0.,   0.,   0.,   0.,   0.,   0.,   0.,   0.,\n",
       "         0.,   0.,   0.,   0.,   0.,   0.,   0.,   0.,   0.,   0.,   0.,\n",
       "         0.,   0.,   0.,   0.,   0.,   0.,   0.,   0.,   0.,   0.,   0.,\n",
       "         0.,   0.,   0.,   0.,   0.,   0.,   0.,   0.,   0.,   0.,   0.,\n",
       "         0.,   0.,   0.,   0.,   0.,   0.,   0.,   0.,   0.,   0.,   0.,\n",
       "         0.,   0.,   0.], dtype=float32)"
      ]
     },
     "execution_count": 15,
     "metadata": {},
     "output_type": "execute_result"
    }
   ],
   "source": [
    "X_test[0]"
   ]
  },
  {
   "cell_type": "code",
   "execution_count": 16,
   "metadata": {},
   "outputs": [
    {
     "name": "stdout",
     "output_type": "stream",
     "text": [
      "313/313 [==============================] - 0s 545us/step\n",
      "(10000, 784)\n",
      "10000\n"
     ]
    }
   ],
   "source": [
    "y_a = model.predict(X_test)\n",
    "print(X_test.shape)\n",
    "y_an = tf.nn.softmax(y_a)\n",
    "y_ans = np.zeros(len(y_an))\n",
    "print(len(y_an))"
   ]
  },
  {
   "cell_type": "code",
   "execution_count": 17,
   "metadata": {},
   "outputs": [],
   "source": [
    "for i in range (len(y_an)):\n",
    "    y_ans[i] = int(np.argmax(y_an[i]))"
   ]
  },
  {
   "cell_type": "code",
   "execution_count": 18,
   "metadata": {},
   "outputs": [
    {
     "name": "stdout",
     "output_type": "stream",
     "text": [
      "98.34\n"
     ]
    }
   ],
   "source": [
    "c = 0\n",
    "for i in range (10000):\n",
    "    if y_ans[i] == y_test[i]:\n",
    "        c+=1\n",
    "print(c/100)"
   ]
  },
  {
   "cell_type": "code",
   "execution_count": 19,
   "metadata": {},
   "outputs": [
    {
     "data": {
      "text/plain": [
       "CompletedProcess(args='pbcopy', returncode=0)"
      ]
     },
     "execution_count": 19,
     "metadata": {},
     "output_type": "execute_result"
    }
   ],
   "source": [
    "import subprocess \n",
    "subprocess.run(\"pbcopy\", text=True, input=str(model.weights))"
   ]
  },
  {
   "cell_type": "code",
   "execution_count": 20,
   "metadata": {},
   "outputs": [
    {
     "ename": "ValueError",
     "evalue": "in user code:\n\n    File \"/Users/utkarsh/anaconda3/lib/python3.10/site-packages/keras/src/engine/training.py\", line 2341, in predict_function  *\n        return step_function(self, iterator)\n    File \"/Users/utkarsh/anaconda3/lib/python3.10/site-packages/keras/src/engine/training.py\", line 2327, in step_function  **\n        outputs = model.distribute_strategy.run(run_step, args=(data,))\n    File \"/Users/utkarsh/anaconda3/lib/python3.10/site-packages/keras/src/engine/training.py\", line 2315, in run_step  **\n        outputs = model.predict_step(data)\n    File \"/Users/utkarsh/anaconda3/lib/python3.10/site-packages/keras/src/engine/training.py\", line 2283, in predict_step\n        return self(x, training=False)\n    File \"/Users/utkarsh/anaconda3/lib/python3.10/site-packages/keras/src/utils/traceback_utils.py\", line 70, in error_handler\n        raise e.with_traceback(filtered_tb) from None\n    File \"/Users/utkarsh/anaconda3/lib/python3.10/site-packages/keras/src/engine/input_spec.py\", line 298, in assert_input_compatibility\n        raise ValueError(\n\n    ValueError: Input 0 of layer \"sequential\" is incompatible with the layer: expected shape=(None, 784), found shape=(None, 28)\n",
     "output_type": "error",
     "traceback": [
      "\u001b[0;31m---------------------------------------------------------------------------\u001b[0m",
      "\u001b[0;31mValueError\u001b[0m                                Traceback (most recent call last)",
      "Cell \u001b[0;32mIn[20], line 7\u001b[0m\n\u001b[1;32m      4\u001b[0m im \u001b[39m=\u001b[39m np\u001b[39m.\u001b[39marray(im)\n\u001b[1;32m      5\u001b[0m im\u001b[39m.\u001b[39mreshape(\u001b[39m1\u001b[39m,\u001b[39m-\u001b[39m\u001b[39m1\u001b[39m)\n\u001b[0;32m----> 7\u001b[0m y_a \u001b[39m=\u001b[39m model\u001b[39m.\u001b[39;49mpredict(im)\n\u001b[1;32m      8\u001b[0m y_an \u001b[39m=\u001b[39m tf\u001b[39m.\u001b[39mnn\u001b[39m.\u001b[39msoftmax(y_a)\n\u001b[1;32m      9\u001b[0m y_ans \u001b[39m=\u001b[39m np\u001b[39m.\u001b[39mzeros(\u001b[39mlen\u001b[39m(y_an))\n",
      "File \u001b[0;32m~/anaconda3/lib/python3.10/site-packages/keras/src/utils/traceback_utils.py:70\u001b[0m, in \u001b[0;36mfilter_traceback.<locals>.error_handler\u001b[0;34m(*args, **kwargs)\u001b[0m\n\u001b[1;32m     67\u001b[0m     filtered_tb \u001b[39m=\u001b[39m _process_traceback_frames(e\u001b[39m.\u001b[39m__traceback__)\n\u001b[1;32m     68\u001b[0m     \u001b[39m# To get the full stack trace, call:\u001b[39;00m\n\u001b[1;32m     69\u001b[0m     \u001b[39m# `tf.debugging.disable_traceback_filtering()`\u001b[39;00m\n\u001b[0;32m---> 70\u001b[0m     \u001b[39mraise\u001b[39;00m e\u001b[39m.\u001b[39mwith_traceback(filtered_tb) \u001b[39mfrom\u001b[39;00m \u001b[39mNone\u001b[39m\n\u001b[1;32m     71\u001b[0m \u001b[39mfinally\u001b[39;00m:\n\u001b[1;32m     72\u001b[0m     \u001b[39mdel\u001b[39;00m filtered_tb\n",
      "File \u001b[0;32m/var/folders/tw/39r462wj4q10yfxmqddq36l80000gn/T/__autograph_generated_fileox9ap02_.py:15\u001b[0m, in \u001b[0;36mouter_factory.<locals>.inner_factory.<locals>.tf__predict_function\u001b[0;34m(iterator)\u001b[0m\n\u001b[1;32m     13\u001b[0m \u001b[39mtry\u001b[39;00m:\n\u001b[1;32m     14\u001b[0m     do_return \u001b[39m=\u001b[39m \u001b[39mTrue\u001b[39;00m\n\u001b[0;32m---> 15\u001b[0m     retval_ \u001b[39m=\u001b[39m ag__\u001b[39m.\u001b[39mconverted_call(ag__\u001b[39m.\u001b[39mld(step_function), (ag__\u001b[39m.\u001b[39mld(\u001b[39mself\u001b[39m), ag__\u001b[39m.\u001b[39mld(iterator)), \u001b[39mNone\u001b[39;00m, fscope)\n\u001b[1;32m     16\u001b[0m \u001b[39mexcept\u001b[39;00m:\n\u001b[1;32m     17\u001b[0m     do_return \u001b[39m=\u001b[39m \u001b[39mFalse\u001b[39;00m\n",
      "\u001b[0;31mValueError\u001b[0m: in user code:\n\n    File \"/Users/utkarsh/anaconda3/lib/python3.10/site-packages/keras/src/engine/training.py\", line 2341, in predict_function  *\n        return step_function(self, iterator)\n    File \"/Users/utkarsh/anaconda3/lib/python3.10/site-packages/keras/src/engine/training.py\", line 2327, in step_function  **\n        outputs = model.distribute_strategy.run(run_step, args=(data,))\n    File \"/Users/utkarsh/anaconda3/lib/python3.10/site-packages/keras/src/engine/training.py\", line 2315, in run_step  **\n        outputs = model.predict_step(data)\n    File \"/Users/utkarsh/anaconda3/lib/python3.10/site-packages/keras/src/engine/training.py\", line 2283, in predict_step\n        return self(x, training=False)\n    File \"/Users/utkarsh/anaconda3/lib/python3.10/site-packages/keras/src/utils/traceback_utils.py\", line 70, in error_handler\n        raise e.with_traceback(filtered_tb) from None\n    File \"/Users/utkarsh/anaconda3/lib/python3.10/site-packages/keras/src/engine/input_spec.py\", line 298, in assert_input_compatibility\n        raise ValueError(\n\n    ValueError: Input 0 of layer \"sequential\" is incompatible with the layer: expected shape=(None, 784), found shape=(None, 28)\n"
     ]
    }
   ],
   "source": [
    "im = Image.open(r\"img.png\")\n",
    "im = im.resize((30,30)).crop((2, 2, 28, 28)).resize((28,28))\n",
    "im = im.convert(\"L\")\n",
    "im = np.array(im)\n",
    "im.reshape(1,-1)\n",
    "\n",
    "y_a = model.predict(im)\n",
    "y_an = tf.nn.softmax(y_a)\n",
    "y_ans = np.zeros(len(y_an))\n",
    "print(len(y_an))"
   ]
  }
 ],
 "metadata": {
  "kernelspec": {
   "display_name": "base",
   "language": "python",
   "name": "python3"
  },
  "language_info": {
   "codemirror_mode": {
    "name": "ipython",
    "version": 3
   },
   "file_extension": ".py",
   "mimetype": "text/x-python",
   "name": "python",
   "nbconvert_exporter": "python",
   "pygments_lexer": "ipython3",
   "version": "3.10.9"
  },
  "orig_nbformat": 4
 },
 "nbformat": 4,
 "nbformat_minor": 2
}
